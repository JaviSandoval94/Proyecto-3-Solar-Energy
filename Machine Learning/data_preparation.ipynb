{
 "cells": [
  {
   "cell_type": "code",
   "execution_count": 1,
   "metadata": {},
   "outputs": [],
   "source": [
    "import pandas as pd\n",
    "import datetime\n",
    "import requests"
   ]
  },
  {
   "cell_type": "code",
   "execution_count": 2,
   "metadata": {},
   "outputs": [
    {
     "data": {
      "text/html": [
       "<div>\n",
       "<style scoped>\n",
       "    .dataframe tbody tr th:only-of-type {\n",
       "        vertical-align: middle;\n",
       "    }\n",
       "\n",
       "    .dataframe tbody tr th {\n",
       "        vertical-align: top;\n",
       "    }\n",
       "\n",
       "    .dataframe thead th {\n",
       "        text-align: right;\n",
       "    }\n",
       "</style>\n",
       "<table border=\"1\" class=\"dataframe\">\n",
       "  <thead>\n",
       "    <tr style=\"text-align: right;\">\n",
       "      <th></th>\n",
       "      <th>id</th>\n",
       "      <th>azimuth</th>\n",
       "      <th>tilt</th>\n",
       "      <th>type</th>\n",
       "      <th>capacity(kWp)</th>\n",
       "      <th>lat</th>\n",
       "      <th>lon</th>\n",
       "    </tr>\n",
       "  </thead>\n",
       "  <tbody>\n",
       "    <tr>\n",
       "      <td>0</td>\n",
       "      <td>Downtown</td>\n",
       "      <td>168</td>\n",
       "      <td>15</td>\n",
       "      <td>poli</td>\n",
       "      <td>4.68</td>\n",
       "      <td>19.423630</td>\n",
       "      <td>-99.131770</td>\n",
       "    </tr>\n",
       "    <tr>\n",
       "      <td>1</td>\n",
       "      <td>West</td>\n",
       "      <td>193</td>\n",
       "      <td>11</td>\n",
       "      <td>poli</td>\n",
       "      <td>5.83</td>\n",
       "      <td>19.399021</td>\n",
       "      <td>-99.245410</td>\n",
       "    </tr>\n",
       "    <tr>\n",
       "      <td>2</td>\n",
       "      <td>East</td>\n",
       "      <td>180</td>\n",
       "      <td>13</td>\n",
       "      <td>poli</td>\n",
       "      <td>2.38</td>\n",
       "      <td>19.404850</td>\n",
       "      <td>-98.992381</td>\n",
       "    </tr>\n",
       "    <tr>\n",
       "      <td>3</td>\n",
       "      <td>South</td>\n",
       "      <td>135</td>\n",
       "      <td>13</td>\n",
       "      <td>poli</td>\n",
       "      <td>2.65</td>\n",
       "      <td>19.278835</td>\n",
       "      <td>-99.142413</td>\n",
       "    </tr>\n",
       "    <tr>\n",
       "      <td>4</td>\n",
       "      <td>North</td>\n",
       "      <td>197</td>\n",
       "      <td>13</td>\n",
       "      <td>poli</td>\n",
       "      <td>3.18</td>\n",
       "      <td>19.560209</td>\n",
       "      <td>-99.127307</td>\n",
       "    </tr>\n",
       "  </tbody>\n",
       "</table>\n",
       "</div>"
      ],
      "text/plain": [
       "         id  azimuth  tilt  type  capacity(kWp)        lat        lon\n",
       "0  Downtown      168    15  poli           4.68  19.423630 -99.131770\n",
       "1      West      193    11  poli           5.83  19.399021 -99.245410\n",
       "2      East      180    13  poli           2.38  19.404850 -98.992381\n",
       "3     South      135    13  poli           2.65  19.278835 -99.142413\n",
       "4     North      197    13  poli           3.18  19.560209 -99.127307"
      ]
     },
     "execution_count": 2,
     "metadata": {},
     "output_type": "execute_result"
    }
   ],
   "source": [
    "sites_data = pd.read_csv('site_data.csv')\n",
    "sites_data.head()"
   ]
  },
  {
   "cell_type": "code",
   "execution_count": 3,
   "metadata": {},
   "outputs": [
    {
     "data": {
      "text/plain": [
       "['Downtown', 'West', 'East', 'South', 'North']"
      ]
     },
     "execution_count": 3,
     "metadata": {},
     "output_type": "execute_result"
    }
   ],
   "source": [
    "ids = sites_data['id']\n",
    "ids = ids.to_list()\n",
    "ids"
   ]
  },
  {
   "cell_type": "code",
   "execution_count": 4,
   "metadata": {},
   "outputs": [
    {
     "data": {
      "text/plain": [
       "[19.42363, 19.399020999999998, 19.40485, 19.278835, 19.560209]"
      ]
     },
     "execution_count": 4,
     "metadata": {},
     "output_type": "execute_result"
    }
   ],
   "source": [
    "latitud = sites_data['lat']\n",
    "latitud = latitud.to_list()\n",
    "latitud"
   ]
  },
  {
   "cell_type": "code",
   "execution_count": 5,
   "metadata": {},
   "outputs": [
    {
     "data": {
      "text/plain": [
       "[-99.13176999999999,\n",
       " -99.24540999999999,\n",
       " -98.99238100000001,\n",
       " -99.142413,\n",
       " -99.127307]"
      ]
     },
     "execution_count": 5,
     "metadata": {},
     "output_type": "execute_result"
    }
   ],
   "source": [
    "longitud = sites_data['lon']\n",
    "longitud = longitud.to_list()\n",
    "longitud"
   ]
  },
  {
   "cell_type": "code",
   "execution_count": 6,
   "metadata": {},
   "outputs": [],
   "source": [
    "calendar = pd.read_excel('calendar.xlsx')\n",
    "#calendar = calendar.astype({\"dates\": object, \"end_date\": object})"
   ]
  },
  {
   "cell_type": "code",
   "execution_count": 7,
   "metadata": {},
   "outputs": [],
   "source": [
    "calendar[\"dates\"] = calendar[\"dates\"].map(lambda ts: ts.strftime(\"%Y-%m-%d\"))\n",
    "calendar[\"end_date\"] = calendar[\"end_date\"].map(lambda ts: ts.strftime(\"%Y-%m-%d\"))"
   ]
  },
  {
   "cell_type": "code",
   "execution_count": 8,
   "metadata": {},
   "outputs": [
    {
     "name": "stdout",
     "output_type": "stream",
     "text": [
      "<class 'pandas.core.frame.DataFrame'>\n",
      "RangeIndex: 12 entries, 0 to 11\n",
      "Data columns (total 2 columns):\n",
      "dates       12 non-null object\n",
      "end_date    12 non-null object\n",
      "dtypes: object(2)\n",
      "memory usage: 320.0+ bytes\n"
     ]
    },
    {
     "data": {
      "text/html": [
       "<div>\n",
       "<style scoped>\n",
       "    .dataframe tbody tr th:only-of-type {\n",
       "        vertical-align: middle;\n",
       "    }\n",
       "\n",
       "    .dataframe tbody tr th {\n",
       "        vertical-align: top;\n",
       "    }\n",
       "\n",
       "    .dataframe thead th {\n",
       "        text-align: right;\n",
       "    }\n",
       "</style>\n",
       "<table border=\"1\" class=\"dataframe\">\n",
       "  <thead>\n",
       "    <tr style=\"text-align: right;\">\n",
       "      <th></th>\n",
       "      <th>dates</th>\n",
       "      <th>end_date</th>\n",
       "    </tr>\n",
       "  </thead>\n",
       "  <tbody>\n",
       "    <tr>\n",
       "      <td>0</td>\n",
       "      <td>2019-08-01</td>\n",
       "      <td>2019-08-31</td>\n",
       "    </tr>\n",
       "    <tr>\n",
       "      <td>1</td>\n",
       "      <td>2019-09-01</td>\n",
       "      <td>2019-09-30</td>\n",
       "    </tr>\n",
       "    <tr>\n",
       "      <td>2</td>\n",
       "      <td>2019-10-01</td>\n",
       "      <td>2019-10-31</td>\n",
       "    </tr>\n",
       "    <tr>\n",
       "      <td>3</td>\n",
       "      <td>2019-11-01</td>\n",
       "      <td>2019-11-30</td>\n",
       "    </tr>\n",
       "    <tr>\n",
       "      <td>4</td>\n",
       "      <td>2019-12-01</td>\n",
       "      <td>2019-12-31</td>\n",
       "    </tr>\n",
       "  </tbody>\n",
       "</table>\n",
       "</div>"
      ],
      "text/plain": [
       "        dates    end_date\n",
       "0  2019-08-01  2019-08-31\n",
       "1  2019-09-01  2019-09-30\n",
       "2  2019-10-01  2019-10-31\n",
       "3  2019-11-01  2019-11-30\n",
       "4  2019-12-01  2019-12-31"
      ]
     },
     "execution_count": 8,
     "metadata": {},
     "output_type": "execute_result"
    }
   ],
   "source": [
    "calendar.info()\n",
    "calendar.head()"
   ]
  },
  {
   "cell_type": "code",
   "execution_count": 9,
   "metadata": {},
   "outputs": [
    {
     "data": {
      "text/plain": [
       "['2019-08-01',\n",
       " '2019-09-01',\n",
       " '2019-10-01',\n",
       " '2019-11-01',\n",
       " '2019-12-01',\n",
       " '2020-01-01',\n",
       " '2020-02-01',\n",
       " '2020-03-01',\n",
       " '2020-04-01',\n",
       " '2020-05-01',\n",
       " '2020-06-01',\n",
       " '2020-07-01']"
      ]
     },
     "execution_count": 9,
     "metadata": {},
     "output_type": "execute_result"
    }
   ],
   "source": [
    "dates = calendar['dates']\n",
    "dates = dates.to_list()\n",
    "dates"
   ]
  },
  {
   "cell_type": "code",
   "execution_count": 10,
   "metadata": {},
   "outputs": [
    {
     "data": {
      "text/plain": [
       "['2019-08-31',\n",
       " '2019-09-30',\n",
       " '2019-10-31',\n",
       " '2019-11-30',\n",
       " '2019-12-31',\n",
       " '2020-01-31',\n",
       " '2020-02-29',\n",
       " '2020-03-31',\n",
       " '2020-04-30',\n",
       " '2020-05-31',\n",
       " '2020-06-30',\n",
       " '2020-07-31']"
      ]
     },
     "execution_count": 10,
     "metadata": {},
     "output_type": "execute_result"
    }
   ],
   "source": [
    "end_date = calendar['end_date']\n",
    "end_date = end_date.to_list()\n",
    "end_date"
   ]
  },
  {
   "cell_type": "code",
   "execution_count": 12,
   "metadata": {},
   "outputs": [
    {
     "name": "stdout",
     "output_type": "stream",
     "text": [
      "19.42363, -99.13176999999999\n",
      "19.399020999999998, -99.24540999999999\n",
      "19.40485, -98.99238100000001\n",
      "19.278835, -99.142413\n",
      "19.560209, -99.127307\n"
     ]
    },
    {
     "data": {
      "text/html": [
       "<div>\n",
       "<style scoped>\n",
       "    .dataframe tbody tr th:only-of-type {\n",
       "        vertical-align: middle;\n",
       "    }\n",
       "\n",
       "    .dataframe tbody tr th {\n",
       "        vertical-align: top;\n",
       "    }\n",
       "\n",
       "    .dataframe thead th {\n",
       "        text-align: right;\n",
       "    }\n",
       "</style>\n",
       "<table border=\"1\" class=\"dataframe\">\n",
       "  <thead>\n",
       "    <tr style=\"text-align: right;\">\n",
       "      <th></th>\n",
       "      <th>date</th>\n",
       "      <th>id</th>\n",
       "      <th>uvIndex</th>\n",
       "      <th>sunHour</th>\n",
       "      <th>cloudcover</th>\n",
       "      <th>maxtempC</th>\n",
       "      <th>mintempC</th>\n",
       "      <th>precipitation</th>\n",
       "      <th>sunrise</th>\n",
       "      <th>sunset</th>\n",
       "    </tr>\n",
       "  </thead>\n",
       "  <tbody>\n",
       "    <tr>\n",
       "      <td>0</td>\n",
       "      <td>2019-08-01</td>\n",
       "      <td>Downtown</td>\n",
       "      <td>4.0</td>\n",
       "      <td>10.3</td>\n",
       "      <td>42.0</td>\n",
       "      <td>24.0</td>\n",
       "      <td>9.0</td>\n",
       "      <td>1.7</td>\n",
       "      <td>07:13 AM</td>\n",
       "      <td>08:13 PM</td>\n",
       "    </tr>\n",
       "    <tr>\n",
       "      <td>1</td>\n",
       "      <td>2019-08-02</td>\n",
       "      <td>Downtown</td>\n",
       "      <td>4.0</td>\n",
       "      <td>7.8</td>\n",
       "      <td>49.0</td>\n",
       "      <td>24.0</td>\n",
       "      <td>10.0</td>\n",
       "      <td>4.7</td>\n",
       "      <td>07:13 AM</td>\n",
       "      <td>08:12 PM</td>\n",
       "    </tr>\n",
       "    <tr>\n",
       "      <td>2</td>\n",
       "      <td>2019-08-03</td>\n",
       "      <td>Downtown</td>\n",
       "      <td>5.0</td>\n",
       "      <td>11.6</td>\n",
       "      <td>36.0</td>\n",
       "      <td>25.0</td>\n",
       "      <td>10.0</td>\n",
       "      <td>2.1</td>\n",
       "      <td>07:14 AM</td>\n",
       "      <td>08:12 PM</td>\n",
       "    </tr>\n",
       "    <tr>\n",
       "      <td>3</td>\n",
       "      <td>2019-08-04</td>\n",
       "      <td>Downtown</td>\n",
       "      <td>4.0</td>\n",
       "      <td>7.8</td>\n",
       "      <td>56.0</td>\n",
       "      <td>24.0</td>\n",
       "      <td>11.0</td>\n",
       "      <td>15.7</td>\n",
       "      <td>07:14 AM</td>\n",
       "      <td>08:11 PM</td>\n",
       "    </tr>\n",
       "    <tr>\n",
       "      <td>4</td>\n",
       "      <td>2019-08-05</td>\n",
       "      <td>Downtown</td>\n",
       "      <td>4.0</td>\n",
       "      <td>6.5</td>\n",
       "      <td>77.0</td>\n",
       "      <td>23.0</td>\n",
       "      <td>10.0</td>\n",
       "      <td>25.1</td>\n",
       "      <td>07:14 AM</td>\n",
       "      <td>08:11 PM</td>\n",
       "    </tr>\n",
       "  </tbody>\n",
       "</table>\n",
       "</div>"
      ],
      "text/plain": [
       "        date        id  uvIndex  sunHour  cloudcover  maxtempC  mintempC  \\\n",
       "0 2019-08-01  Downtown      4.0     10.3        42.0      24.0       9.0   \n",
       "1 2019-08-02  Downtown      4.0      7.8        49.0      24.0      10.0   \n",
       "2 2019-08-03  Downtown      5.0     11.6        36.0      25.0      10.0   \n",
       "3 2019-08-04  Downtown      4.0      7.8        56.0      24.0      11.0   \n",
       "4 2019-08-05  Downtown      4.0      6.5        77.0      23.0      10.0   \n",
       "\n",
       "   precipitation   sunrise    sunset  \n",
       "0            1.7  07:13 AM  08:13 PM  \n",
       "1            4.7  07:13 AM  08:12 PM  \n",
       "2            2.1  07:14 AM  08:12 PM  \n",
       "3           15.7  07:14 AM  08:11 PM  \n",
       "4           25.1  07:14 AM  08:11 PM  "
      ]
     },
     "execution_count": 12,
     "metadata": {},
     "output_type": "execute_result"
    }
   ],
   "source": [
    "key = '5f813d72e7854f6caa1151047200108'\n",
    "\n",
    "# List of dates corresponding to the month and the year (The API only manages to get a month at a time)\n",
    "# dates = ['2019-01-01', '2019-02-01', '2019-03-01', '2019-04-01', '2019-05-01', '2019-06-01', '2019-07-01', '2019-08-01', '2019-09-01', '2019-10-01', '2019-11-01', '2019-12-01', '2020-01-01', '2020-02-01', '2020-03-01', '2020-04-01', '2020-05-01']\n",
    "# end_date = ['2019-01-31', '2019-02-28', '2019-03-31', '2019-04-30', '2019-05-31', '2019-06-30', '2019-07-31', '2019-08-31', '2019-09-30', '2019-10-31', '2019-11-30', '2019-12-31', '2020-01-31', '2020-02-29', '2020-03-31', '2020-04-30', '2020-05-31']\n",
    "# Create an empty list to store all the data\n",
    "ids_list = []\n",
    "date_list = []\n",
    "lat_column = []\n",
    "lon_column = []\n",
    "UVIndex_list = []\n",
    "sunHour_list = []\n",
    "cloud_list = []\n",
    "MaxtempC_list = []\n",
    "MintempC_list = []\n",
    "sunrise_list = []\n",
    "sunset_list = []\n",
    "precMM_list = []\n",
    "\n",
    "\n",
    "# Latitude and Longitude of the sites\n",
    "\n",
    "site_flag = 0\n",
    "\n",
    "for lat in latitud:\n",
    "\n",
    "    end_date_flag = 0\n",
    "    # For each start and end date, get the URL. Use a flag to iterate through the end_date list.\n",
    "    for date in dates:\n",
    "        # Built the URL.\n",
    "        url='http://api.worldweatheronline.com/premium/v1/past-weather.ashx?key={key}&q={latitud},%{longitud}&format=json&date={date}&enddate={end_date}&includelocation=yes&tp=24'.format(\n",
    "        key=key,latitud=lat,longitud=longitud[site_flag],date=date,end_date=end_date[end_date_flag])\n",
    "        end_date_flag+=1\n",
    "        # Get response from the URL.\n",
    "        response = requests.get(url).json()\n",
    "        # Create a flag to iterate thourgh the hole month.\n",
    "        month_day = 0\n",
    "        # For each element in the JSON (day of the mont), extract the Date, Avg Temperature C,\n",
    "        # Humidity %, Feels Like C.\n",
    "        for i in response['data']['weather']:\n",
    "            # Append the element of the dictionary that corresponds to each list. \n",
    "            date_list.append(response['data']['weather'][month_day]['date'])\n",
    "            MaxtempC_list.append(float(response['data']['weather'][month_day]['maxtempC']))\n",
    "            MintempC_list.append(float(response['data']['weather'][month_day]['mintempC']))\n",
    "            UVIndex_list.append(float(response['data']['weather'][month_day]['uvIndex']))\n",
    "            sunHour_list.append(float(response['data']['weather'][month_day]['sunHour']))\n",
    "            cloud_list.append(float(response['data']['weather'][month_day]['hourly'][0]['cloudcover']))\n",
    "            precMM_list.append(float(response['data']['weather'][month_day]['hourly'][0]['precipMM']))\n",
    "            sunrise_list.append(str(response['data']['weather'][month_day]['astronomy'][0]['sunrise']))\n",
    "            sunset_list.append(str(response['data']['weather'][month_day]['astronomy'][0]['sunset']))\n",
    "            ids_list.append(ids[site_flag])\n",
    "            month_day+=1\n",
    "\n",
    "    # Create a dictionary to store the lists\n",
    "    dict_climate = {'date':date_list, \n",
    "                    'id': ids_list,\n",
    "                    'uvIndex': UVIndex_list,\n",
    "                    'sunHour': sunHour_list,\n",
    "                    'cloudcover': cloud_list,\n",
    "                    'maxtempC': MaxtempC_list,\n",
    "                    'mintempC': MintempC_list,\n",
    "                    'precipitation': precMM_list,\n",
    "                    'sunrise': sunrise_list,\n",
    "                    'sunset': sunset_list\n",
    "                   }\n",
    "    print(str(lat) + ', ' + str(longitud[site_flag]))\n",
    "    site_flag+=1\n",
    "\n",
    "# Create the DataFrame based on the previous dictionary\n",
    "df_climate = pd.DataFrame(dict_climate)\n",
    "df_climate['date'] = pd.to_datetime(df_climate['date'])\n",
    "df_climate.head()"
   ]
  },
  {
   "cell_type": "code",
   "execution_count": 13,
   "metadata": {},
   "outputs": [
    {
     "name": "stdout",
     "output_type": "stream",
     "text": [
      "<class 'pandas.core.frame.DataFrame'>\n",
      "RangeIndex: 1830 entries, 0 to 1829\n",
      "Data columns (total 10 columns):\n",
      "date             1830 non-null datetime64[ns]\n",
      "id               1830 non-null object\n",
      "uvIndex          1830 non-null float64\n",
      "sunHour          1830 non-null float64\n",
      "cloudcover       1830 non-null float64\n",
      "maxtempC         1830 non-null float64\n",
      "mintempC         1830 non-null float64\n",
      "precipitation    1830 non-null float64\n",
      "sunrise          1830 non-null object\n",
      "sunset           1830 non-null object\n",
      "dtypes: datetime64[ns](1), float64(6), object(3)\n",
      "memory usage: 143.1+ KB\n"
     ]
    }
   ],
   "source": [
    "df_climate.info()"
   ]
  },
  {
   "cell_type": "code",
   "execution_count": 14,
   "metadata": {},
   "outputs": [
    {
     "name": "stdout",
     "output_type": "stream",
     "text": [
      "<class 'pandas.core.frame.DataFrame'>\n",
      "RangeIndex: 1830 entries, 0 to 1829\n",
      "Data columns (total 10 columns):\n",
      "date             1830 non-null datetime64[ns]\n",
      "id               1830 non-null object\n",
      "uvIndex          1830 non-null float64\n",
      "sunHour          1830 non-null float64\n",
      "cloudcover       1830 non-null float64\n",
      "maxtempC         1830 non-null float64\n",
      "mintempC         1830 non-null float64\n",
      "precipitation    1830 non-null float64\n",
      "sunrise          1830 non-null object\n",
      "sunset           1830 non-null object\n",
      "dtypes: datetime64[ns](1), float64(6), object(3)\n",
      "memory usage: 143.1+ KB\n"
     ]
    }
   ],
   "source": [
    "df_climate = pd.DataFrame(dict_climate)\n",
    "df_climate['date'] = pd.to_datetime(df_climate['date'])\n",
    "df_climate.info()"
   ]
  },
  {
   "cell_type": "code",
   "execution_count": 15,
   "metadata": {},
   "outputs": [],
   "source": [
    "df_climate.to_csv(\"clima_predict.csv\", encoding='utf-8', index=False)"
   ]
  },
  {
   "cell_type": "code",
   "execution_count": 26,
   "metadata": {},
   "outputs": [
    {
     "data": {
      "text/html": [
       "<div>\n",
       "<style scoped>\n",
       "    .dataframe tbody tr th:only-of-type {\n",
       "        vertical-align: middle;\n",
       "    }\n",
       "\n",
       "    .dataframe tbody tr th {\n",
       "        vertical-align: top;\n",
       "    }\n",
       "\n",
       "    .dataframe thead th {\n",
       "        text-align: right;\n",
       "    }\n",
       "</style>\n",
       "<table border=\"1\" class=\"dataframe\">\n",
       "  <thead>\n",
       "    <tr style=\"text-align: right;\">\n",
       "      <th></th>\n",
       "      <th>date</th>\n",
       "      <th>id</th>\n",
       "      <th>uvIndex</th>\n",
       "      <th>sunHour</th>\n",
       "      <th>cloudcover</th>\n",
       "      <th>maxtempC</th>\n",
       "      <th>mintempC</th>\n",
       "      <th>precipitation</th>\n",
       "      <th>sunrise</th>\n",
       "      <th>sunset</th>\n",
       "    </tr>\n",
       "  </thead>\n",
       "  <tbody>\n",
       "    <tr>\n",
       "      <td>0</td>\n",
       "      <td>2017-01-01</td>\n",
       "      <td>1</td>\n",
       "      <td>4.0</td>\n",
       "      <td>11.0</td>\n",
       "      <td>7.0</td>\n",
       "      <td>20.0</td>\n",
       "      <td>8.0</td>\n",
       "      <td>0.0</td>\n",
       "      <td>08:11 AM</td>\n",
       "      <td>07:10 PM</td>\n",
       "    </tr>\n",
       "    <tr>\n",
       "      <td>1</td>\n",
       "      <td>2017-01-02</td>\n",
       "      <td>1</td>\n",
       "      <td>4.0</td>\n",
       "      <td>11.0</td>\n",
       "      <td>2.0</td>\n",
       "      <td>21.0</td>\n",
       "      <td>8.0</td>\n",
       "      <td>0.0</td>\n",
       "      <td>08:11 AM</td>\n",
       "      <td>07:11 PM</td>\n",
       "    </tr>\n",
       "    <tr>\n",
       "      <td>2</td>\n",
       "      <td>2017-01-03</td>\n",
       "      <td>1</td>\n",
       "      <td>4.0</td>\n",
       "      <td>11.0</td>\n",
       "      <td>2.0</td>\n",
       "      <td>22.0</td>\n",
       "      <td>9.0</td>\n",
       "      <td>0.0</td>\n",
       "      <td>08:11 AM</td>\n",
       "      <td>07:12 PM</td>\n",
       "    </tr>\n",
       "    <tr>\n",
       "      <td>3</td>\n",
       "      <td>2017-01-04</td>\n",
       "      <td>1</td>\n",
       "      <td>4.0</td>\n",
       "      <td>11.0</td>\n",
       "      <td>2.0</td>\n",
       "      <td>23.0</td>\n",
       "      <td>9.0</td>\n",
       "      <td>0.0</td>\n",
       "      <td>08:11 AM</td>\n",
       "      <td>07:12 PM</td>\n",
       "    </tr>\n",
       "    <tr>\n",
       "      <td>4</td>\n",
       "      <td>2017-01-05</td>\n",
       "      <td>1</td>\n",
       "      <td>4.0</td>\n",
       "      <td>11.0</td>\n",
       "      <td>0.0</td>\n",
       "      <td>22.0</td>\n",
       "      <td>7.0</td>\n",
       "      <td>0.0</td>\n",
       "      <td>08:12 AM</td>\n",
       "      <td>07:13 PM</td>\n",
       "    </tr>\n",
       "    <tr>\n",
       "      <td>...</td>\n",
       "      <td>...</td>\n",
       "      <td>...</td>\n",
       "      <td>...</td>\n",
       "      <td>...</td>\n",
       "      <td>...</td>\n",
       "      <td>...</td>\n",
       "      <td>...</td>\n",
       "      <td>...</td>\n",
       "      <td>...</td>\n",
       "      <td>...</td>\n",
       "    </tr>\n",
       "    <tr>\n",
       "      <td>20923</td>\n",
       "      <td>2020-07-27</td>\n",
       "      <td>26</td>\n",
       "      <td>4.0</td>\n",
       "      <td>9.1</td>\n",
       "      <td>49.0</td>\n",
       "      <td>23.0</td>\n",
       "      <td>10.0</td>\n",
       "      <td>3.9</td>\n",
       "      <td>07:12 AM</td>\n",
       "      <td>08:15 PM</td>\n",
       "    </tr>\n",
       "    <tr>\n",
       "      <td>20924</td>\n",
       "      <td>2020-07-28</td>\n",
       "      <td>26</td>\n",
       "      <td>4.0</td>\n",
       "      <td>9.1</td>\n",
       "      <td>70.0</td>\n",
       "      <td>23.0</td>\n",
       "      <td>11.0</td>\n",
       "      <td>9.7</td>\n",
       "      <td>07:12 AM</td>\n",
       "      <td>08:14 PM</td>\n",
       "    </tr>\n",
       "    <tr>\n",
       "      <td>20925</td>\n",
       "      <td>2020-07-29</td>\n",
       "      <td>26</td>\n",
       "      <td>4.0</td>\n",
       "      <td>7.8</td>\n",
       "      <td>77.0</td>\n",
       "      <td>23.0</td>\n",
       "      <td>11.0</td>\n",
       "      <td>12.1</td>\n",
       "      <td>07:12 AM</td>\n",
       "      <td>08:14 PM</td>\n",
       "    </tr>\n",
       "    <tr>\n",
       "      <td>20926</td>\n",
       "      <td>2020-07-30</td>\n",
       "      <td>26</td>\n",
       "      <td>4.0</td>\n",
       "      <td>9.1</td>\n",
       "      <td>72.0</td>\n",
       "      <td>25.0</td>\n",
       "      <td>11.0</td>\n",
       "      <td>13.7</td>\n",
       "      <td>07:13 AM</td>\n",
       "      <td>08:13 PM</td>\n",
       "    </tr>\n",
       "    <tr>\n",
       "      <td>20927</td>\n",
       "      <td>2020-07-31</td>\n",
       "      <td>26</td>\n",
       "      <td>4.0</td>\n",
       "      <td>6.5</td>\n",
       "      <td>67.0</td>\n",
       "      <td>23.0</td>\n",
       "      <td>11.0</td>\n",
       "      <td>18.9</td>\n",
       "      <td>07:13 AM</td>\n",
       "      <td>08:13 PM</td>\n",
       "    </tr>\n",
       "  </tbody>\n",
       "</table>\n",
       "<p>20928 rows × 10 columns</p>\n",
       "</div>"
      ],
      "text/plain": [
       "             date  id  uvIndex  sunHour  cloudcover  maxtempC  mintempC  \\\n",
       "0      2017-01-01   1      4.0     11.0         7.0      20.0       8.0   \n",
       "1      2017-01-02   1      4.0     11.0         2.0      21.0       8.0   \n",
       "2      2017-01-03   1      4.0     11.0         2.0      22.0       9.0   \n",
       "3      2017-01-04   1      4.0     11.0         2.0      23.0       9.0   \n",
       "4      2017-01-05   1      4.0     11.0         0.0      22.0       7.0   \n",
       "...           ...  ..      ...      ...         ...       ...       ...   \n",
       "20923  2020-07-27  26      4.0      9.1        49.0      23.0      10.0   \n",
       "20924  2020-07-28  26      4.0      9.1        70.0      23.0      11.0   \n",
       "20925  2020-07-29  26      4.0      7.8        77.0      23.0      11.0   \n",
       "20926  2020-07-30  26      4.0      9.1        72.0      25.0      11.0   \n",
       "20927  2020-07-31  26      4.0      6.5        67.0      23.0      11.0   \n",
       "\n",
       "       precipitation   sunrise    sunset  \n",
       "0                0.0  08:11 AM  07:10 PM  \n",
       "1                0.0  08:11 AM  07:11 PM  \n",
       "2                0.0  08:11 AM  07:12 PM  \n",
       "3                0.0  08:11 AM  07:12 PM  \n",
       "4                0.0  08:12 AM  07:13 PM  \n",
       "...              ...       ...       ...  \n",
       "20923            3.9  07:12 AM  08:15 PM  \n",
       "20924            9.7  07:12 AM  08:14 PM  \n",
       "20925           12.1  07:12 AM  08:14 PM  \n",
       "20926           13.7  07:13 AM  08:13 PM  \n",
       "20927           18.9  07:13 AM  08:13 PM  \n",
       "\n",
       "[20928 rows x 10 columns]"
      ]
     },
     "execution_count": 26,
     "metadata": {},
     "output_type": "execute_result"
    }
   ],
   "source": [
    "df_pls = pd.read_csv('shinji_eva_final.csv')\n",
    "df_pls"
   ]
  },
  {
   "cell_type": "code",
   "execution_count": 43,
   "metadata": {},
   "outputs": [
    {
     "data": {
      "text/html": [
       "<div>\n",
       "<style scoped>\n",
       "    .dataframe tbody tr th:only-of-type {\n",
       "        vertical-align: middle;\n",
       "    }\n",
       "\n",
       "    .dataframe tbody tr th {\n",
       "        vertical-align: top;\n",
       "    }\n",
       "\n",
       "    .dataframe thead th {\n",
       "        text-align: right;\n",
       "    }\n",
       "</style>\n",
       "<table border=\"1\" class=\"dataframe\">\n",
       "  <thead>\n",
       "    <tr style=\"text-align: right;\">\n",
       "      <th></th>\n",
       "      <th>id</th>\n",
       "      <th>date</th>\n",
       "      <th>produccion(Wh)</th>\n",
       "    </tr>\n",
       "  </thead>\n",
       "  <tbody>\n",
       "    <tr>\n",
       "      <td>0</td>\n",
       "      <td>1</td>\n",
       "      <td>27/05/2020</td>\n",
       "      <td>34047.254</td>\n",
       "    </tr>\n",
       "    <tr>\n",
       "      <td>1</td>\n",
       "      <td>1</td>\n",
       "      <td>28/05/2020</td>\n",
       "      <td>37065.480</td>\n",
       "    </tr>\n",
       "    <tr>\n",
       "      <td>2</td>\n",
       "      <td>1</td>\n",
       "      <td>29/05/2020</td>\n",
       "      <td>37592.620</td>\n",
       "    </tr>\n",
       "    <tr>\n",
       "      <td>3</td>\n",
       "      <td>1</td>\n",
       "      <td>30/05/2020</td>\n",
       "      <td>34483.457</td>\n",
       "    </tr>\n",
       "    <tr>\n",
       "      <td>4</td>\n",
       "      <td>1</td>\n",
       "      <td>31/05/2020</td>\n",
       "      <td>33053.957</td>\n",
       "    </tr>\n",
       "  </tbody>\n",
       "</table>\n",
       "</div>"
      ],
      "text/plain": [
       "   id        date  produccion(Wh)\n",
       "0   1  27/05/2020       34047.254\n",
       "1   1  28/05/2020       37065.480\n",
       "2   1  29/05/2020       37592.620\n",
       "3   1  30/05/2020       34483.457\n",
       "4   1  31/05/2020       33053.957"
      ]
     },
     "execution_count": 43,
     "metadata": {},
     "output_type": "execute_result"
    }
   ],
   "source": [
    "production = pd.read_csv('production.csv')\n",
    "production.head()"
   ]
  },
  {
   "cell_type": "code",
   "execution_count": 44,
   "metadata": {},
   "outputs": [
    {
     "data": {
      "text/plain": [
       "id                  int64\n",
       "date               object\n",
       "produccion(Wh)    float64\n",
       "dtype: object"
      ]
     },
     "execution_count": 44,
     "metadata": {},
     "output_type": "execute_result"
    }
   ],
   "source": [
    "production.dtypes"
   ]
  },
  {
   "cell_type": "code",
   "execution_count": 45,
   "metadata": {},
   "outputs": [
    {
     "data": {
      "text/plain": [
       "date             datetime64[ns]\n",
       "id                        int64\n",
       "uvIndex                 float64\n",
       "sunHour                 float64\n",
       "cloudcover              float64\n",
       "maxtempC                float64\n",
       "mintempC                float64\n",
       "precipitation           float64\n",
       "sunrise                  object\n",
       "sunset                   object\n",
       "dtype: object"
      ]
     },
     "execution_count": 45,
     "metadata": {},
     "output_type": "execute_result"
    }
   ],
   "source": [
    "df_pls.dtypes"
   ]
  },
  {
   "cell_type": "code",
   "execution_count": 46,
   "metadata": {},
   "outputs": [
    {
     "data": {
      "text/plain": [
       "id                         int64\n",
       "date              datetime64[ns]\n",
       "produccion(Wh)           float64\n",
       "dtype: object"
      ]
     },
     "execution_count": 46,
     "metadata": {},
     "output_type": "execute_result"
    }
   ],
   "source": [
    "production['date'] = pd.to_datetime(production['date'], format=\"%d/%m/%Y\")\n",
    "production.dtypes"
   ]
  },
  {
   "cell_type": "code",
   "execution_count": 47,
   "metadata": {},
   "outputs": [
    {
     "data": {
      "text/html": [
       "<div>\n",
       "<style scoped>\n",
       "    .dataframe tbody tr th:only-of-type {\n",
       "        vertical-align: middle;\n",
       "    }\n",
       "\n",
       "    .dataframe tbody tr th {\n",
       "        vertical-align: top;\n",
       "    }\n",
       "\n",
       "    .dataframe thead th {\n",
       "        text-align: right;\n",
       "    }\n",
       "</style>\n",
       "<table border=\"1\" class=\"dataframe\">\n",
       "  <thead>\n",
       "    <tr style=\"text-align: right;\">\n",
       "      <th></th>\n",
       "      <th>id</th>\n",
       "      <th>date</th>\n",
       "      <th>produccion(Wh)</th>\n",
       "    </tr>\n",
       "  </thead>\n",
       "  <tbody>\n",
       "    <tr>\n",
       "      <td>0</td>\n",
       "      <td>1</td>\n",
       "      <td>2020-05-27</td>\n",
       "      <td>34047.254</td>\n",
       "    </tr>\n",
       "    <tr>\n",
       "      <td>1</td>\n",
       "      <td>1</td>\n",
       "      <td>2020-05-28</td>\n",
       "      <td>37065.480</td>\n",
       "    </tr>\n",
       "    <tr>\n",
       "      <td>2</td>\n",
       "      <td>1</td>\n",
       "      <td>2020-05-29</td>\n",
       "      <td>37592.620</td>\n",
       "    </tr>\n",
       "    <tr>\n",
       "      <td>3</td>\n",
       "      <td>1</td>\n",
       "      <td>2020-05-30</td>\n",
       "      <td>34483.457</td>\n",
       "    </tr>\n",
       "    <tr>\n",
       "      <td>4</td>\n",
       "      <td>1</td>\n",
       "      <td>2020-05-31</td>\n",
       "      <td>33053.957</td>\n",
       "    </tr>\n",
       "  </tbody>\n",
       "</table>\n",
       "</div>"
      ],
      "text/plain": [
       "   id       date  produccion(Wh)\n",
       "0   1 2020-05-27       34047.254\n",
       "1   1 2020-05-28       37065.480\n",
       "2   1 2020-05-29       37592.620\n",
       "3   1 2020-05-30       34483.457\n",
       "4   1 2020-05-31       33053.957"
      ]
     },
     "execution_count": 47,
     "metadata": {},
     "output_type": "execute_result"
    }
   ],
   "source": [
    "production.head()"
   ]
  },
  {
   "cell_type": "code",
   "execution_count": 28,
   "metadata": {},
   "outputs": [],
   "source": [
    "df_pls['date'] = pd.to_datetime(df_pls['date'], yearfirst=True, infer_datetime_format=True)"
   ]
  },
  {
   "cell_type": "code",
   "execution_count": 30,
   "metadata": {},
   "outputs": [
    {
     "data": {
      "text/html": [
       "<div>\n",
       "<style scoped>\n",
       "    .dataframe tbody tr th:only-of-type {\n",
       "        vertical-align: middle;\n",
       "    }\n",
       "\n",
       "    .dataframe tbody tr th {\n",
       "        vertical-align: top;\n",
       "    }\n",
       "\n",
       "    .dataframe thead th {\n",
       "        text-align: right;\n",
       "    }\n",
       "</style>\n",
       "<table border=\"1\" class=\"dataframe\">\n",
       "  <thead>\n",
       "    <tr style=\"text-align: right;\">\n",
       "      <th></th>\n",
       "      <th>date</th>\n",
       "      <th>id</th>\n",
       "      <th>uvIndex</th>\n",
       "      <th>sunHour</th>\n",
       "      <th>cloudcover</th>\n",
       "      <th>maxtempC</th>\n",
       "      <th>mintempC</th>\n",
       "      <th>precipitation</th>\n",
       "      <th>sunrise</th>\n",
       "      <th>sunset</th>\n",
       "    </tr>\n",
       "  </thead>\n",
       "  <tbody>\n",
       "    <tr>\n",
       "      <td>0</td>\n",
       "      <td>2017-01-01</td>\n",
       "      <td>1</td>\n",
       "      <td>4.0</td>\n",
       "      <td>11.0</td>\n",
       "      <td>7.0</td>\n",
       "      <td>20.0</td>\n",
       "      <td>8.0</td>\n",
       "      <td>0.0</td>\n",
       "      <td>08:11 AM</td>\n",
       "      <td>07:10 PM</td>\n",
       "    </tr>\n",
       "    <tr>\n",
       "      <td>1</td>\n",
       "      <td>2017-01-02</td>\n",
       "      <td>1</td>\n",
       "      <td>4.0</td>\n",
       "      <td>11.0</td>\n",
       "      <td>2.0</td>\n",
       "      <td>21.0</td>\n",
       "      <td>8.0</td>\n",
       "      <td>0.0</td>\n",
       "      <td>08:11 AM</td>\n",
       "      <td>07:11 PM</td>\n",
       "    </tr>\n",
       "    <tr>\n",
       "      <td>2</td>\n",
       "      <td>2017-01-03</td>\n",
       "      <td>1</td>\n",
       "      <td>4.0</td>\n",
       "      <td>11.0</td>\n",
       "      <td>2.0</td>\n",
       "      <td>22.0</td>\n",
       "      <td>9.0</td>\n",
       "      <td>0.0</td>\n",
       "      <td>08:11 AM</td>\n",
       "      <td>07:12 PM</td>\n",
       "    </tr>\n",
       "    <tr>\n",
       "      <td>3</td>\n",
       "      <td>2017-01-04</td>\n",
       "      <td>1</td>\n",
       "      <td>4.0</td>\n",
       "      <td>11.0</td>\n",
       "      <td>2.0</td>\n",
       "      <td>23.0</td>\n",
       "      <td>9.0</td>\n",
       "      <td>0.0</td>\n",
       "      <td>08:11 AM</td>\n",
       "      <td>07:12 PM</td>\n",
       "    </tr>\n",
       "    <tr>\n",
       "      <td>4</td>\n",
       "      <td>2017-01-05</td>\n",
       "      <td>1</td>\n",
       "      <td>4.0</td>\n",
       "      <td>11.0</td>\n",
       "      <td>0.0</td>\n",
       "      <td>22.0</td>\n",
       "      <td>7.0</td>\n",
       "      <td>0.0</td>\n",
       "      <td>08:12 AM</td>\n",
       "      <td>07:13 PM</td>\n",
       "    </tr>\n",
       "  </tbody>\n",
       "</table>\n",
       "</div>"
      ],
      "text/plain": [
       "        date  id  uvIndex  sunHour  cloudcover  maxtempC  mintempC  \\\n",
       "0 2017-01-01   1      4.0     11.0         7.0      20.0       8.0   \n",
       "1 2017-01-02   1      4.0     11.0         2.0      21.0       8.0   \n",
       "2 2017-01-03   1      4.0     11.0         2.0      22.0       9.0   \n",
       "3 2017-01-04   1      4.0     11.0         2.0      23.0       9.0   \n",
       "4 2017-01-05   1      4.0     11.0         0.0      22.0       7.0   \n",
       "\n",
       "   precipitation   sunrise    sunset  \n",
       "0            0.0  08:11 AM  07:10 PM  \n",
       "1            0.0  08:11 AM  07:11 PM  \n",
       "2            0.0  08:11 AM  07:12 PM  \n",
       "3            0.0  08:11 AM  07:12 PM  \n",
       "4            0.0  08:12 AM  07:13 PM  "
      ]
     },
     "execution_count": 30,
     "metadata": {},
     "output_type": "execute_result"
    }
   ],
   "source": [
    "df_pls.head()"
   ]
  },
  {
   "cell_type": "code",
   "execution_count": 53,
   "metadata": {},
   "outputs": [],
   "source": [
    "df_final = pd.merge(production, df_pls, how='right', on=['id', 'date'])"
   ]
  },
  {
   "cell_type": "code",
   "execution_count": 55,
   "metadata": {},
   "outputs": [],
   "source": [
    "df_final.to_csv('plsplsfinal.csv', index=False)"
   ]
  },
  {
   "cell_type": "code",
   "execution_count": null,
   "metadata": {},
   "outputs": [],
   "source": []
  },
  {
   "cell_type": "code",
   "execution_count": null,
   "metadata": {},
   "outputs": [],
   "source": []
  }
 ],
 "metadata": {
  "hide_input": false,
  "kernelspec": {
   "display_name": "Python 3",
   "language": "python",
   "name": "python3"
  },
  "language_info": {
   "codemirror_mode": {
    "name": "ipython",
    "version": 3
   },
   "file_extension": ".py",
   "mimetype": "text/x-python",
   "name": "python",
   "nbconvert_exporter": "python",
   "pygments_lexer": "ipython3",
   "version": "3.7.4"
  },
  "toc": {
   "base_numbering": 1,
   "nav_menu": {},
   "number_sections": true,
   "sideBar": true,
   "skip_h1_title": false,
   "title_cell": "Table of Contents",
   "title_sidebar": "Contents",
   "toc_cell": false,
   "toc_position": {},
   "toc_section_display": true,
   "toc_window_display": false
  }
 },
 "nbformat": 4,
 "nbformat_minor": 4
}
