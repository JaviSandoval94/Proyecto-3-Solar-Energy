{
 "cells": [
  {
   "cell_type": "code",
   "execution_count": 1,
   "metadata": {},
   "outputs": [],
   "source": [
    "# Dependencies and Setup\n",
    "import pandas as pd\n",
    "import datetime as dt\n",
    "\n",
    "# File to Load (Remember to Change These)\n",
    "production = \"resources/production.csv\"\n",
    "site = \"resources/site_data.csv\"\n",
    "weather = \"resources/weather_data.csv\""
   ]
  },
  {
   "cell_type": "code",
   "execution_count": 2,
   "metadata": {},
   "outputs": [
    {
     "output_type": "execute_result",
     "data": {
      "text/plain": "   id  azimuth  tilt  capacity(kWp)        lat        lon\n0   1      180    15          10.20  19.354622 -99.165995\n1   2      128    12           5.72  19.395768 -99.270309\n2   3      155    15           6.95  19.415420 -99.213157\n3   6      152    15           3.12  18.955723 -99.252346\n4   7      106     9           3.12  19.386032 -99.263238",
      "text/html": "<div>\n<style scoped>\n    .dataframe tbody tr th:only-of-type {\n        vertical-align: middle;\n    }\n\n    .dataframe tbody tr th {\n        vertical-align: top;\n    }\n\n    .dataframe thead th {\n        text-align: right;\n    }\n</style>\n<table border=\"1\" class=\"dataframe\">\n  <thead>\n    <tr style=\"text-align: right;\">\n      <th></th>\n      <th>id</th>\n      <th>azimuth</th>\n      <th>tilt</th>\n      <th>capacity(kWp)</th>\n      <th>lat</th>\n      <th>lon</th>\n    </tr>\n  </thead>\n  <tbody>\n    <tr>\n      <th>0</th>\n      <td>1</td>\n      <td>180</td>\n      <td>15</td>\n      <td>10.20</td>\n      <td>19.354622</td>\n      <td>-99.165995</td>\n    </tr>\n    <tr>\n      <th>1</th>\n      <td>2</td>\n      <td>128</td>\n      <td>12</td>\n      <td>5.72</td>\n      <td>19.395768</td>\n      <td>-99.270309</td>\n    </tr>\n    <tr>\n      <th>2</th>\n      <td>3</td>\n      <td>155</td>\n      <td>15</td>\n      <td>6.95</td>\n      <td>19.415420</td>\n      <td>-99.213157</td>\n    </tr>\n    <tr>\n      <th>3</th>\n      <td>6</td>\n      <td>152</td>\n      <td>15</td>\n      <td>3.12</td>\n      <td>18.955723</td>\n      <td>-99.252346</td>\n    </tr>\n    <tr>\n      <th>4</th>\n      <td>7</td>\n      <td>106</td>\n      <td>9</td>\n      <td>3.12</td>\n      <td>19.386032</td>\n      <td>-99.263238</td>\n    </tr>\n  </tbody>\n</table>\n</div>"
     },
     "metadata": {},
     "execution_count": 2
    }
   ],
   "source": [
    "# Read production and site data and store into Pandas Data Frames\n",
    "production_data = pd.read_csv(production)\n",
    "site_data = pd.read_csv(site)\n",
    "site_data = site_data[[\"id\", \"azimuth\", \"tilt\", \"capacity(kWp)\", \"lat\", \"lon\"]]\n",
    "site_data.head()"
   ]
  },
  {
   "cell_type": "code",
   "execution_count": 3,
   "metadata": {},
   "outputs": [
    {
     "output_type": "execute_result",
     "data": {
      "text/plain": "   id       fecha  production(kWh)\n0   1  27/05/2020        34.047254\n1   1  28/05/2020        37.065480\n2   1  29/05/2020        37.592620\n3   1  30/05/2020        34.483457\n4   1  31/05/2020        33.053957",
      "text/html": "<div>\n<style scoped>\n    .dataframe tbody tr th:only-of-type {\n        vertical-align: middle;\n    }\n\n    .dataframe tbody tr th {\n        vertical-align: top;\n    }\n\n    .dataframe thead th {\n        text-align: right;\n    }\n</style>\n<table border=\"1\" class=\"dataframe\">\n  <thead>\n    <tr style=\"text-align: right;\">\n      <th></th>\n      <th>id</th>\n      <th>fecha</th>\n      <th>production(kWh)</th>\n    </tr>\n  </thead>\n  <tbody>\n    <tr>\n      <th>0</th>\n      <td>1</td>\n      <td>27/05/2020</td>\n      <td>34.047254</td>\n    </tr>\n    <tr>\n      <th>1</th>\n      <td>1</td>\n      <td>28/05/2020</td>\n      <td>37.065480</td>\n    </tr>\n    <tr>\n      <th>2</th>\n      <td>1</td>\n      <td>29/05/2020</td>\n      <td>37.592620</td>\n    </tr>\n    <tr>\n      <th>3</th>\n      <td>1</td>\n      <td>30/05/2020</td>\n      <td>34.483457</td>\n    </tr>\n    <tr>\n      <th>4</th>\n      <td>1</td>\n      <td>31/05/2020</td>\n      <td>33.053957</td>\n    </tr>\n  </tbody>\n</table>\n</div>"
     },
     "metadata": {},
     "execution_count": 3
    }
   ],
   "source": [
    "# Get production data and change units to kWh\n",
    "production_data[\"production(kWh)\"] = production_data[\"produccion(Wh)\"] / 1000\n",
    "production_data = production_data.drop(\"produccion(Wh)\", axis=1)\n",
    "production_data.head()"
   ]
  },
  {
   "cell_type": "code",
   "execution_count": 4,
   "metadata": {},
   "outputs": [
    {
     "output_type": "execute_result",
     "data": {
      "text/plain": "   id        date  production(kWh)  specific_prod(kWh/kWp)\n0   1  27/05/2020        34.047254                3.337966\n1   1  28/05/2020        37.065480                3.633871\n2   1  29/05/2020        37.592620                3.685551\n3   1  30/05/2020        34.483457                3.380731\n4   1  31/05/2020        33.053957                3.240584",
      "text/html": "<div>\n<style scoped>\n    .dataframe tbody tr th:only-of-type {\n        vertical-align: middle;\n    }\n\n    .dataframe tbody tr th {\n        vertical-align: top;\n    }\n\n    .dataframe thead th {\n        text-align: right;\n    }\n</style>\n<table border=\"1\" class=\"dataframe\">\n  <thead>\n    <tr style=\"text-align: right;\">\n      <th></th>\n      <th>id</th>\n      <th>date</th>\n      <th>production(kWh)</th>\n      <th>specific_prod(kWh/kWp)</th>\n    </tr>\n  </thead>\n  <tbody>\n    <tr>\n      <th>0</th>\n      <td>1</td>\n      <td>27/05/2020</td>\n      <td>34.047254</td>\n      <td>3.337966</td>\n    </tr>\n    <tr>\n      <th>1</th>\n      <td>1</td>\n      <td>28/05/2020</td>\n      <td>37.065480</td>\n      <td>3.633871</td>\n    </tr>\n    <tr>\n      <th>2</th>\n      <td>1</td>\n      <td>29/05/2020</td>\n      <td>37.592620</td>\n      <td>3.685551</td>\n    </tr>\n    <tr>\n      <th>3</th>\n      <td>1</td>\n      <td>30/05/2020</td>\n      <td>34.483457</td>\n      <td>3.380731</td>\n    </tr>\n    <tr>\n      <th>4</th>\n      <td>1</td>\n      <td>31/05/2020</td>\n      <td>33.053957</td>\n      <td>3.240584</td>\n    </tr>\n  </tbody>\n</table>\n</div>"
     },
     "metadata": {},
     "execution_count": 4
    }
   ],
   "source": [
    "# Get specific production indicator\n",
    "production_data = production_data.merge(site_data, how='inner', on='id')\n",
    "production_data['specific_prod(kWh/kWp)'] = production_data['production(kWh)']/production_data['capacity(kWp)']\n",
    "production_data = production_data.rename(columns = {'fecha': 'date'})\n",
    "production_data = production_data[[\"id\", \"date\", \"production(kWh)\", \"specific_prod(kWh/kWp)\"]]\n",
    "production_data.head()"
   ]
  },
  {
   "cell_type": "code",
   "execution_count": 5,
   "metadata": {},
   "outputs": [],
   "source": [
    "# Change date format\n",
    "production_data['date'] = pd.to_datetime(production_data['date'], format=\"%d/%m/%Y\")"
   ]
  },
  {
   "cell_type": "code",
   "execution_count": 6,
   "metadata": {},
   "outputs": [],
   "source": [
    "# Get weather data\n",
    "weather_data = pd.read_csv(weather)"
   ]
  },
  {
   "cell_type": "code",
   "execution_count": 7,
   "metadata": {},
   "outputs": [
    {
     "output_type": "execute_result",
     "data": {
      "text/plain": "Index(['date', 'id', 'uvIndex', 'sunHour', 'cloudcover', 'maxtempC',\n       'mintempC', 'precipitation', 'sunrise', 'sunset'],\n      dtype='object')"
     },
     "metadata": {},
     "execution_count": 7
    }
   ],
   "source": [
    "# Get columns from weather data\n",
    "weather_data.columns"
   ]
  },
  {
   "cell_type": "code",
   "execution_count": 8,
   "metadata": {},
   "outputs": [
    {
     "output_type": "execute_result",
     "data": {
      "text/plain": "         date  id  uvIndex  sunHour  cloudcover  maxtempC  mintempC  \\\n0  2017-01-01   1      4.0     11.0         7.0      20.0       8.0   \n1  2017-01-02   1      4.0     11.0         2.0      21.0       8.0   \n2  2017-01-03   1      4.0     11.0         2.0      22.0       9.0   \n3  2017-01-04   1      4.0     11.0         2.0      23.0       9.0   \n4  2017-01-05   1      4.0     11.0         0.0      22.0       7.0   \n\n   precipitation   sunrise    sunset  \n0            0.0  08:11 AM  07:10 PM  \n1            0.0  08:11 AM  07:11 PM  \n2            0.0  08:11 AM  07:12 PM  \n3            0.0  08:11 AM  07:12 PM  \n4            0.0  08:12 AM  07:13 PM  ",
      "text/html": "<div>\n<style scoped>\n    .dataframe tbody tr th:only-of-type {\n        vertical-align: middle;\n    }\n\n    .dataframe tbody tr th {\n        vertical-align: top;\n    }\n\n    .dataframe thead th {\n        text-align: right;\n    }\n</style>\n<table border=\"1\" class=\"dataframe\">\n  <thead>\n    <tr style=\"text-align: right;\">\n      <th></th>\n      <th>date</th>\n      <th>id</th>\n      <th>uvIndex</th>\n      <th>sunHour</th>\n      <th>cloudcover</th>\n      <th>maxtempC</th>\n      <th>mintempC</th>\n      <th>precipitation</th>\n      <th>sunrise</th>\n      <th>sunset</th>\n    </tr>\n  </thead>\n  <tbody>\n    <tr>\n      <th>0</th>\n      <td>2017-01-01</td>\n      <td>1</td>\n      <td>4.0</td>\n      <td>11.0</td>\n      <td>7.0</td>\n      <td>20.0</td>\n      <td>8.0</td>\n      <td>0.0</td>\n      <td>08:11 AM</td>\n      <td>07:10 PM</td>\n    </tr>\n    <tr>\n      <th>1</th>\n      <td>2017-01-02</td>\n      <td>1</td>\n      <td>4.0</td>\n      <td>11.0</td>\n      <td>2.0</td>\n      <td>21.0</td>\n      <td>8.0</td>\n      <td>0.0</td>\n      <td>08:11 AM</td>\n      <td>07:11 PM</td>\n    </tr>\n    <tr>\n      <th>2</th>\n      <td>2017-01-03</td>\n      <td>1</td>\n      <td>4.0</td>\n      <td>11.0</td>\n      <td>2.0</td>\n      <td>22.0</td>\n      <td>9.0</td>\n      <td>0.0</td>\n      <td>08:11 AM</td>\n      <td>07:12 PM</td>\n    </tr>\n    <tr>\n      <th>3</th>\n      <td>2017-01-04</td>\n      <td>1</td>\n      <td>4.0</td>\n      <td>11.0</td>\n      <td>2.0</td>\n      <td>23.0</td>\n      <td>9.0</td>\n      <td>0.0</td>\n      <td>08:11 AM</td>\n      <td>07:12 PM</td>\n    </tr>\n    <tr>\n      <th>4</th>\n      <td>2017-01-05</td>\n      <td>1</td>\n      <td>4.0</td>\n      <td>11.0</td>\n      <td>0.0</td>\n      <td>22.0</td>\n      <td>7.0</td>\n      <td>0.0</td>\n      <td>08:12 AM</td>\n      <td>07:13 PM</td>\n    </tr>\n  </tbody>\n</table>\n</div>"
     },
     "metadata": {},
     "execution_count": 8
    }
   ],
   "source": [
    "# Print weather data head to explore the columns and formatting\n",
    "weather_data.head()"
   ]
  },
  {
   "cell_type": "code",
   "execution_count": 9,
   "metadata": {},
   "outputs": [
    {
     "output_type": "execute_result",
     "data": {
      "text/plain": "        date  id  uvIndex  sunHour  cloudcover  maxtempC  mintempC  \\\n0 2017-01-01   1      4.0     11.0         7.0      20.0       8.0   \n1 2017-01-02   1      4.0     11.0         2.0      21.0       8.0   \n2 2017-01-03   1      4.0     11.0         2.0      22.0       9.0   \n3 2017-01-04   1      4.0     11.0         2.0      23.0       9.0   \n4 2017-01-05   1      4.0     11.0         0.0      22.0       7.0   \n\n   precipitation   sunrise    sunset  \n0            0.0  08:11 AM  07:10 PM  \n1            0.0  08:11 AM  07:11 PM  \n2            0.0  08:11 AM  07:12 PM  \n3            0.0  08:11 AM  07:12 PM  \n4            0.0  08:12 AM  07:13 PM  ",
      "text/html": "<div>\n<style scoped>\n    .dataframe tbody tr th:only-of-type {\n        vertical-align: middle;\n    }\n\n    .dataframe tbody tr th {\n        vertical-align: top;\n    }\n\n    .dataframe thead th {\n        text-align: right;\n    }\n</style>\n<table border=\"1\" class=\"dataframe\">\n  <thead>\n    <tr style=\"text-align: right;\">\n      <th></th>\n      <th>date</th>\n      <th>id</th>\n      <th>uvIndex</th>\n      <th>sunHour</th>\n      <th>cloudcover</th>\n      <th>maxtempC</th>\n      <th>mintempC</th>\n      <th>precipitation</th>\n      <th>sunrise</th>\n      <th>sunset</th>\n    </tr>\n  </thead>\n  <tbody>\n    <tr>\n      <th>0</th>\n      <td>2017-01-01</td>\n      <td>1</td>\n      <td>4.0</td>\n      <td>11.0</td>\n      <td>7.0</td>\n      <td>20.0</td>\n      <td>8.0</td>\n      <td>0.0</td>\n      <td>08:11 AM</td>\n      <td>07:10 PM</td>\n    </tr>\n    <tr>\n      <th>1</th>\n      <td>2017-01-02</td>\n      <td>1</td>\n      <td>4.0</td>\n      <td>11.0</td>\n      <td>2.0</td>\n      <td>21.0</td>\n      <td>8.0</td>\n      <td>0.0</td>\n      <td>08:11 AM</td>\n      <td>07:11 PM</td>\n    </tr>\n    <tr>\n      <th>2</th>\n      <td>2017-01-03</td>\n      <td>1</td>\n      <td>4.0</td>\n      <td>11.0</td>\n      <td>2.0</td>\n      <td>22.0</td>\n      <td>9.0</td>\n      <td>0.0</td>\n      <td>08:11 AM</td>\n      <td>07:12 PM</td>\n    </tr>\n    <tr>\n      <th>3</th>\n      <td>2017-01-04</td>\n      <td>1</td>\n      <td>4.0</td>\n      <td>11.0</td>\n      <td>2.0</td>\n      <td>23.0</td>\n      <td>9.0</td>\n      <td>0.0</td>\n      <td>08:11 AM</td>\n      <td>07:12 PM</td>\n    </tr>\n    <tr>\n      <th>4</th>\n      <td>2017-01-05</td>\n      <td>1</td>\n      <td>4.0</td>\n      <td>11.0</td>\n      <td>0.0</td>\n      <td>22.0</td>\n      <td>7.0</td>\n      <td>0.0</td>\n      <td>08:12 AM</td>\n      <td>07:13 PM</td>\n    </tr>\n  </tbody>\n</table>\n</div>"
     },
     "metadata": {},
     "execution_count": 9
    }
   ],
   "source": [
    "# Change date data type\n",
    "weather_data[\"date\"] = pd.to_datetime(weather_data['date'], yearfirst=True, infer_datetime_format=True)\n",
    "weather_data.head()"
   ]
  },
  {
   "cell_type": "code",
   "execution_count": 10,
   "metadata": {},
   "outputs": [
    {
     "output_type": "execute_result",
     "data": {
      "text/plain": "   id       date  production(kWh)  specific_prod(kWh/kWp)  uvIndex  sunHour  \\\n0   1 2020-05-27        34.047254                3.337966      6.0     11.6   \n1   1 2020-05-28        37.065480                3.633871      5.0     10.4   \n2   1 2020-05-29        37.592620                3.685551      4.0      8.0   \n3   1 2020-05-30        34.483457                3.380731      4.0     11.6   \n4   1 2020-05-31        33.053957                3.240584      4.0      9.2   \n\n   cloudcover  maxtempC  mintempC  precipitation   sunrise    sunset  \n0        17.0      28.0      14.0            0.7  06:58 AM  08:09 PM  \n1        35.0      26.0      13.0            8.9  06:58 AM  08:10 PM  \n2        51.0      23.0      12.0           17.7  06:58 AM  08:10 PM  \n3        36.0      24.0      10.0            0.8  06:58 AM  08:11 PM  \n4        48.0      23.0      10.0            6.3  06:58 AM  08:11 PM  ",
      "text/html": "<div>\n<style scoped>\n    .dataframe tbody tr th:only-of-type {\n        vertical-align: middle;\n    }\n\n    .dataframe tbody tr th {\n        vertical-align: top;\n    }\n\n    .dataframe thead th {\n        text-align: right;\n    }\n</style>\n<table border=\"1\" class=\"dataframe\">\n  <thead>\n    <tr style=\"text-align: right;\">\n      <th></th>\n      <th>id</th>\n      <th>date</th>\n      <th>production(kWh)</th>\n      <th>specific_prod(kWh/kWp)</th>\n      <th>uvIndex</th>\n      <th>sunHour</th>\n      <th>cloudcover</th>\n      <th>maxtempC</th>\n      <th>mintempC</th>\n      <th>precipitation</th>\n      <th>sunrise</th>\n      <th>sunset</th>\n    </tr>\n  </thead>\n  <tbody>\n    <tr>\n      <th>0</th>\n      <td>1</td>\n      <td>2020-05-27</td>\n      <td>34.047254</td>\n      <td>3.337966</td>\n      <td>6.0</td>\n      <td>11.6</td>\n      <td>17.0</td>\n      <td>28.0</td>\n      <td>14.0</td>\n      <td>0.7</td>\n      <td>06:58 AM</td>\n      <td>08:09 PM</td>\n    </tr>\n    <tr>\n      <th>1</th>\n      <td>1</td>\n      <td>2020-05-28</td>\n      <td>37.065480</td>\n      <td>3.633871</td>\n      <td>5.0</td>\n      <td>10.4</td>\n      <td>35.0</td>\n      <td>26.0</td>\n      <td>13.0</td>\n      <td>8.9</td>\n      <td>06:58 AM</td>\n      <td>08:10 PM</td>\n    </tr>\n    <tr>\n      <th>2</th>\n      <td>1</td>\n      <td>2020-05-29</td>\n      <td>37.592620</td>\n      <td>3.685551</td>\n      <td>4.0</td>\n      <td>8.0</td>\n      <td>51.0</td>\n      <td>23.0</td>\n      <td>12.0</td>\n      <td>17.7</td>\n      <td>06:58 AM</td>\n      <td>08:10 PM</td>\n    </tr>\n    <tr>\n      <th>3</th>\n      <td>1</td>\n      <td>2020-05-30</td>\n      <td>34.483457</td>\n      <td>3.380731</td>\n      <td>4.0</td>\n      <td>11.6</td>\n      <td>36.0</td>\n      <td>24.0</td>\n      <td>10.0</td>\n      <td>0.8</td>\n      <td>06:58 AM</td>\n      <td>08:11 PM</td>\n    </tr>\n    <tr>\n      <th>4</th>\n      <td>1</td>\n      <td>2020-05-31</td>\n      <td>33.053957</td>\n      <td>3.240584</td>\n      <td>4.0</td>\n      <td>9.2</td>\n      <td>48.0</td>\n      <td>23.0</td>\n      <td>10.0</td>\n      <td>6.3</td>\n      <td>06:58 AM</td>\n      <td>08:11 PM</td>\n    </tr>\n  </tbody>\n</table>\n</div>"
     },
     "metadata": {},
     "execution_count": 10
    }
   ],
   "source": [
    "# Merge weather and production data into a single Data Frame\n",
    "daily_data = pd.merge(production_data, weather_data, how='right', on=['id', 'date'])\n",
    "daily_data.head()"
   ]
  },
  {
   "cell_type": "code",
   "execution_count": 11,
   "metadata": {},
   "outputs": [],
   "source": [
    "# Drop nulls\n",
    "daily_data = daily_data.dropna()"
   ]
  },
  {
   "cell_type": "code",
   "execution_count": 12,
   "metadata": {},
   "outputs": [],
   "source": [
    "# Export to csv files\n",
    "daily_data.to_csv(\"resources/db_files/daily_data.csv\", index=False)\n",
    "site_data.to_csv(\"resources/db_files/site_data.csv\", index=False)"
   ]
  }
 ],
 "metadata": {
  "kernelspec": {
   "display_name": "Python 3",
   "language": "python",
   "name": "python3"
  },
  "language_info": {
   "codemirror_mode": {
    "name": "ipython",
    "version": 3
   },
   "file_extension": ".py",
   "mimetype": "text/x-python",
   "name": "python",
   "nbconvert_exporter": "python",
   "pygments_lexer": "ipython3",
   "version": "3.7.4"
  },
  "toc": {
   "base_numbering": 1,
   "nav_menu": {},
   "number_sections": true,
   "sideBar": true,
   "skip_h1_title": false,
   "title_cell": "Table of Contents",
   "title_sidebar": "Contents",
   "toc_cell": false,
   "toc_position": {},
   "toc_section_display": true,
   "toc_window_display": false
  }
 },
 "nbformat": 4,
 "nbformat_minor": 4
}